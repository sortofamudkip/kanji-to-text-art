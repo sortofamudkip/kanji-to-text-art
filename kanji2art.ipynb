{
 "cells": [
  {
   "cell_type": "markdown",
   "metadata": {},
   "source": [
    "# Kanji to art\n",
    "\n",
    "Given a Kanji (漢字), convert it into a text art rendition of itself.\n"
   ]
  },
  {
   "cell_type": "markdown",
   "metadata": {},
   "source": [
    "## Example\n",
    "\n",
    "Input: \"字\"\n",
    "\n",
    "Output: \n",
    "```\n",
    "　　　　　　　　　字　　　　　　　　　　\n",
    "　　　　　　　　　字字　　　　　　　　　\n",
    "　　字字字字字字字字字字字字字字字字字　\n",
    "　　字　　　　　　　　　　　　　　字　　\n",
    "　字字　　　　　　　　　　　　　字　　　\n",
    "　字　　字字字字字字字字字字字　　　　　\n",
    "　　　　　　　　　　　　　字字　　　　　\n",
    "　　　　　　　　　　　字字　　　　　　　\n",
    "　　　　　　　　　字字　　　　　　　　　\n",
    "　　　　　　　　　字字　　　　　　　　　\n",
    "　　　　　　　　　字字　　　　　　字字　\n",
    "　字字字字字字字字字字字字字字字字字字　\n",
    "　　　　　　　　　字　　　　　　　　　　\n",
    "　　　　　　　　　字　　　　　　　　　　\n",
    "　　　　　　　　　字　　　　　　　　　　\n",
    "　　　　　　　　　字　　　　　　　　　　\n",
    "　　　　　　字　　字　　　　　　　　　　\n",
    "　　　　　　　　字字　　　　　　　　　　\n",
    "```"
   ]
  },
  {
   "cell_type": "markdown",
   "metadata": {},
   "source": [
    "## Algorithm"
   ]
  },
  {
   "cell_type": "markdown",
   "metadata": {},
   "source": [
    "\n",
    "Input: `input_text`, a single kanji / 漢字 \n",
    "\n",
    "Algorithm:\n",
    "* create empty $N \\times N$ pixel image $I$, i.e. $I \\in \\{1, 2, \\dots, 255 \\}^{N \\times N}$\n",
    "* print `input_text` onto $I$\n",
    "* Threshold each image at 127 (note: this is mostly for convenience)\n",
    "* Divide $I$ into chunks of size $M \\times M$ (where $N$ is divisible by $M$)\n",
    "* For each chunk: if more than 30% of a chunk is filled, replace it with `input_text`, empty space otherwise\n",
    "\n",
    "Output: the art (string)"
   ]
  },
  {
   "cell_type": "markdown",
   "metadata": {},
   "source": [
    "### Import modules"
   ]
  },
  {
   "cell_type": "code",
   "execution_count": null,
   "metadata": {},
   "outputs": [],
   "source": [
    "import cv2 as cv\n",
    "import numpy as np\n",
    "import matplotlib.pyplot as plt\n",
    "from PIL import Image, ImageDraw, ImageFont"
   ]
  },
  {
   "cell_type": "markdown",
   "metadata": {},
   "source": [
    "### Initialise Kanji and parameters\n",
    "\n",
    "To improve quality, increase `img_size`, and/or decrease `chunk_size`."
   ]
  },
  {
   "cell_type": "code",
   "execution_count": null,
   "metadata": {},
   "outputs": [],
   "source": [
    "input_text = \"字\" # kanji to turn into art\n",
    "\n",
    "img_size = 500 # size of image (affects the resolution of the art)\n",
    "chunk_size = 25  # size of each chunk (determines art resolution & final size of the art)\n",
    "image = Image.new('L', (img_size, img_size)) # 'L' means greyscale\n",
    "\n",
    "# note: can't use cv2.puttext because it doesn't support Kanji\n",
    "\n",
    "draw = ImageDraw.Draw(image) # initialise drawing\n",
    "font_text = ImageFont.truetype(font='mingliu.ttc', size=img_size, encoding='utf-8') # set font / font size / encoding\n",
    "draw.text( (0, 0), input_text, fill=(255), font=font_text ) # coordinates (xy) ; fill = colour\n"
   ]
  },
  {
   "cell_type": "markdown",
   "metadata": {},
   "source": [
    "### Visualise how the text art is created"
   ]
  },
  {
   "cell_type": "code",
   "execution_count": null,
   "metadata": {},
   "outputs": [],
   "source": [
    "# show what the chunked boundaries will be (comment out if not debugging)\n",
    "chunk_img = np.array(image.copy())\n",
    "chunk_img = cv.cvtColor(chunk_img, cv.COLOR_GRAY2RGB) # convert to RGB image\n",
    "for (i, j) in np.ndindex(img_size // chunk_size, img_size // chunk_size): \n",
    "    cv.line(chunk_img, (chunk_size*i, 0), (chunk_size*i, image.width), (0, 255, 0), 2) # draw vertical lines\n",
    "    cv.line(chunk_img, (0, chunk_size*j), (image.height, chunk_size*j), (0, 255, 0), 2) # draw horizontal lines\n",
    "_ = plt.imshow(chunk_img)"
   ]
  },
  {
   "cell_type": "markdown",
   "metadata": {},
   "source": [
    "### Generate text art"
   ]
  },
  {
   "cell_type": "code",
   "execution_count": null,
   "metadata": {},
   "outputs": [],
   "source": [
    "array = np.array(image, dtype=np.uint8)  # convert to np array for chunking\n",
    "ret, array = cv.threshold(array, 127, 255, cv.THRESH_BINARY) # threshold to make computation easier\n",
    "# _ = plt.imshow(array, cmap='gray', vmin=0, vmax=255) # for debugging\n",
    "\n",
    "array[ array == 255 ] = 1 # makes computing easier later on\n",
    "# chunk the image\n",
    "chunked = np.array([array[i*chunk_size:(i+1)*chunk_size, j*chunk_size:(j+1)*chunk_size] for (i, j) in np.ndindex(img_size // chunk_size, img_size // chunk_size)])\n",
    "# sum each chunk\n",
    "chunked_summed = chunked.sum(axis=(1,2))\n",
    "# determine if we should output the input_text or an empty space\n",
    "threshold = int((chunked.shape[1] * chunked.shape[2]) * 0.3) # 0.3 is arbitrary\n",
    "chunked_summed = np.where(chunked_summed > threshold, 1, 0)\n",
    "chunked_summed = np.array(np.split(chunked_summed, img_size // chunk_size))\n"
   ]
  },
  {
   "cell_type": "markdown",
   "metadata": {},
   "source": [
    "### Output text art"
   ]
  },
  {
   "cell_type": "code",
   "execution_count": null,
   "metadata": {},
   "outputs": [],
   "source": [
    "final = \"\" # output string\n",
    "for i, j in np.ndindex(chunked_summed.shape):\n",
    "    final += input_text if chunked_summed[i,j] else \"　\"\n",
    "    if j == chunked_summed.shape[1] - 1: final += \"\\n\" # next line\n",
    "\n",
    "print(final)\n"
   ]
  }
 ],
 "metadata": {
  "interpreter": {
   "hash": "1baa965d5efe3ac65b79dfc60c0d706280b1da80fedb7760faf2759126c4f253"
  },
  "kernelspec": {
   "display_name": "Python 3.8.6 64-bit",
   "name": "python3"
  },
  "language_info": {
   "codemirror_mode": {
    "name": "ipython",
    "version": 3
   },
   "file_extension": ".py",
   "mimetype": "text/x-python",
   "name": "python",
   "nbconvert_exporter": "python",
   "pygments_lexer": "ipython3",
   "version": "3.8.6"
  },
  "orig_nbformat": 4
 },
 "nbformat": 4,
 "nbformat_minor": 2
}
