{
 "cells": [
  {
   "cell_type": "markdown",
   "source": [
    "# Kanji to art\r\n",
    "\r\n",
    "Input: `input_text`, a single kanji / 漢字 \r\n",
    "\r\n",
    "Algorithm:\r\n",
    "* create empty $N \\times N$ pixel image $I$, i.e. $I \\in \\{1, 2, \\dots, 255 \\}^{N \\times N}$\r\n",
    "* print `input_text` onto $I$\r\n",
    "* Threshold each image at 127 (note: this is mostly for convenience)\r\n",
    "* Divide $I$ into chunks of size $M \\times M$ (where $N$ is divisible by $M$)\r\n",
    "* For each chunk: if more than 30% of a chunk is filled, replace it with `input_text`, empty space otherwise\r\n",
    "\r\n",
    "Output: the art (string)"
   ],
   "metadata": {}
  },
  {
   "cell_type": "code",
   "execution_count": null,
   "source": [
    "import cv2 as cv\r\n",
    "import numpy as np\r\n",
    "import matplotlib.pyplot as plt\r\n",
    "from PIL import Image, ImageDraw, ImageFont"
   ],
   "outputs": [],
   "metadata": {}
  },
  {
   "cell_type": "code",
   "execution_count": null,
   "source": [
    "input_text = \"喵\" # kanji to turn into art\r\n",
    "\r\n",
    "img_size = 500 # size of image (affects the resolution of the art)\r\n",
    "chunk_size = 25  # size of each chunk (determines art resolution & final size of the art)\r\n",
    "image = Image.new('L', (img_size, img_size)) # 'L' means greyscale\r\n",
    "\r\n",
    "# note: you can't use cv2.puttext because it doesn't support 中文 lol\r\n",
    "\r\n",
    "draw = ImageDraw.Draw(image) # initialise drawing\r\n",
    "font_text = ImageFont.truetype(font='mingliu.ttc', size=img_size, encoding='utf-8') # set font / font size / encoding\r\n",
    "draw.text( (0, 0), input_text, fill=(255), font=font_text ) # coordinates (xy) ; fill = colour\r\n"
   ],
   "outputs": [],
   "metadata": {}
  },
  {
   "cell_type": "code",
   "execution_count": null,
   "source": [
    "# show what the chunked boundaries will be (comment out if not debugging)\r\n",
    "chunk_img = np.array(image.copy())\r\n",
    "chunk_img = cv.cvtColor(chunk_img, cv.COLOR_GRAY2RGB) # convert to RGB image\r\n",
    "for (i, j) in np.ndindex(img_size // chunk_size, img_size // chunk_size): \r\n",
    "    cv.line(chunk_img, (chunk_size*i, 0), (chunk_size*i, image.width), (0, 255, 0), 2) # draw vertical lines\r\n",
    "    cv.line(chunk_img, (0, chunk_size*j), (image.height, chunk_size*j), (0, 255, 0), 2) # draw horizontal lines\r\n",
    "_ = plt.imshow(chunk_img)"
   ],
   "outputs": [],
   "metadata": {}
  },
  {
   "cell_type": "code",
   "execution_count": null,
   "source": [
    "array = np.array(image, dtype=np.uint8)  # convert to np array for chunking\r\n",
    "ret, array = cv.threshold(array, 127, 255, cv.THRESH_BINARY) # threshold to make computation easier\r\n",
    "# _ = plt.imshow(array, cmap='gray', vmin=0, vmax=255) # for debugging\r\n",
    "\r\n",
    "array[ array == 255 ] = 1 # makes computing easier later on\r\n",
    "# chunk the image\r\n",
    "chunked = np.array([array[i*chunk_size:(i+1)*chunk_size, j*chunk_size:(j+1)*chunk_size] for (i, j) in np.ndindex(img_size // chunk_size, img_size // chunk_size)])\r\n",
    "# sum each chunk\r\n",
    "chunked_summed = chunked.sum(axis=(1,2))\r\n",
    "# determine if we should output the input_text or an empty space\r\n",
    "threshold = int((chunked.shape[1] * chunked.shape[2]) * 0.3) # 0.3 is arbitrary\r\n",
    "chunked_summed = np.where(chunked_summed > threshold, 1, 0)\r\n",
    "chunked_summed = np.array(np.split(chunked_summed, img_size // chunk_size))\r\n"
   ],
   "outputs": [],
   "metadata": {}
  },
  {
   "cell_type": "code",
   "execution_count": null,
   "source": [
    "final = \"\" # output string\r\n",
    "for i, j in np.ndindex(chunked_summed.shape):\r\n",
    "    final += input_text if chunked_summed[i,j] else \"　\"\r\n",
    "    if j == chunked_summed.shape[1] - 1: final += \"\\n\" # next line\r\n",
    "\r\n",
    "print(final)\r\n"
   ],
   "outputs": [],
   "metadata": {}
  }
 ],
 "metadata": {
  "orig_nbformat": 4,
  "language_info": {
   "name": "python",
   "version": "3.8.6",
   "mimetype": "text/x-python",
   "codemirror_mode": {
    "name": "ipython",
    "version": 3
   },
   "pygments_lexer": "ipython3",
   "nbconvert_exporter": "python",
   "file_extension": ".py"
  },
  "kernelspec": {
   "name": "python3",
   "display_name": "Python 3.8.6 64-bit"
  },
  "interpreter": {
   "hash": "1baa965d5efe3ac65b79dfc60c0d706280b1da80fedb7760faf2759126c4f253"
  }
 },
 "nbformat": 4,
 "nbformat_minor": 2
}